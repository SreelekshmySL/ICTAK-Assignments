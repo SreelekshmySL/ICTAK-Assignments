{
 "cells": [
  {
   "cell_type": "markdown",
   "id": "6ff3df4e",
   "metadata": {},
   "source": [
    "### Case Study #04  : Testing of Hypothesis\n",
    "### Sreelekshmy S L\n",
    "### NDSA B_4"
   ]
  },
  {
   "cell_type": "markdown",
   "id": "1d241c7a",
   "metadata": {},
   "source": [
    "Import necessary libraries"
   ]
  },
  {
   "cell_type": "code",
   "execution_count": 1,
   "id": "9f394d8e",
   "metadata": {},
   "outputs": [],
   "source": [
    "import numpy as np\n",
    "import pandas as pd\n",
    "import seaborn as sns\n",
    "import scipy.stats as stat"
   ]
  },
  {
   "cell_type": "markdown",
   "id": "634b45d0",
   "metadata": {},
   "source": [
    "Read the data"
   ]
  },
  {
   "cell_type": "code",
   "execution_count": 2,
   "id": "2622e323",
   "metadata": {},
   "outputs": [],
   "source": [
    "sales= pd.read_csv('Sales_add.csv')"
   ]
  },
  {
   "cell_type": "code",
   "execution_count": 3,
   "id": "5c362b4e",
   "metadata": {},
   "outputs": [
    {
     "data": {
      "text/html": [
       "<div>\n",
       "<style scoped>\n",
       "    .dataframe tbody tr th:only-of-type {\n",
       "        vertical-align: middle;\n",
       "    }\n",
       "\n",
       "    .dataframe tbody tr th {\n",
       "        vertical-align: top;\n",
       "    }\n",
       "\n",
       "    .dataframe thead th {\n",
       "        text-align: right;\n",
       "    }\n",
       "</style>\n",
       "<table border=\"1\" class=\"dataframe\">\n",
       "  <thead>\n",
       "    <tr style=\"text-align: right;\">\n",
       "      <th></th>\n",
       "      <th>Month</th>\n",
       "      <th>Region</th>\n",
       "      <th>Manager</th>\n",
       "      <th>Sales_before_digital_add(in $)</th>\n",
       "      <th>Sales_After_digital_add(in $)</th>\n",
       "    </tr>\n",
       "  </thead>\n",
       "  <tbody>\n",
       "    <tr>\n",
       "      <th>0</th>\n",
       "      <td>Month-1</td>\n",
       "      <td>Region - A</td>\n",
       "      <td>Manager - A</td>\n",
       "      <td>132921</td>\n",
       "      <td>270390</td>\n",
       "    </tr>\n",
       "    <tr>\n",
       "      <th>1</th>\n",
       "      <td>Month-2</td>\n",
       "      <td>Region - A</td>\n",
       "      <td>Manager - C</td>\n",
       "      <td>149559</td>\n",
       "      <td>223334</td>\n",
       "    </tr>\n",
       "    <tr>\n",
       "      <th>2</th>\n",
       "      <td>Month-3</td>\n",
       "      <td>Region - B</td>\n",
       "      <td>Manager - A</td>\n",
       "      <td>146278</td>\n",
       "      <td>244243</td>\n",
       "    </tr>\n",
       "    <tr>\n",
       "      <th>3</th>\n",
       "      <td>Month-4</td>\n",
       "      <td>Region - B</td>\n",
       "      <td>Manager - B</td>\n",
       "      <td>152167</td>\n",
       "      <td>231808</td>\n",
       "    </tr>\n",
       "    <tr>\n",
       "      <th>4</th>\n",
       "      <td>Month-5</td>\n",
       "      <td>Region - C</td>\n",
       "      <td>Manager - B</td>\n",
       "      <td>159525</td>\n",
       "      <td>258402</td>\n",
       "    </tr>\n",
       "  </tbody>\n",
       "</table>\n",
       "</div>"
      ],
      "text/plain": [
       "     Month      Region      Manager  Sales_before_digital_add(in $)  \\\n",
       "0  Month-1  Region - A  Manager - A                          132921   \n",
       "1  Month-2  Region - A  Manager - C                          149559   \n",
       "2  Month-3  Region - B  Manager - A                          146278   \n",
       "3  Month-4  Region - B  Manager - B                          152167   \n",
       "4  Month-5  Region - C  Manager - B                          159525   \n",
       "\n",
       "   Sales_After_digital_add(in $)  \n",
       "0                         270390  \n",
       "1                         223334  \n",
       "2                         244243  \n",
       "3                         231808  \n",
       "4                         258402  "
      ]
     },
     "execution_count": 3,
     "metadata": {},
     "output_type": "execute_result"
    }
   ],
   "source": [
    "sales.head()"
   ]
  },
  {
   "cell_type": "markdown",
   "id": "aaa73239",
   "metadata": {},
   "source": [
    "Check for null values"
   ]
  },
  {
   "cell_type": "code",
   "execution_count": 4,
   "id": "df723797",
   "metadata": {},
   "outputs": [
    {
     "data": {
      "text/plain": [
       "Month                             0\n",
       "Region                            0\n",
       "Manager                           0\n",
       "Sales_before_digital_add(in $)    0\n",
       "Sales_After_digital_add(in $)     0\n",
       "dtype: int64"
      ]
     },
     "execution_count": 4,
     "metadata": {},
     "output_type": "execute_result"
    }
   ],
   "source": [
    "sales.isnull().sum()"
   ]
  },
  {
   "cell_type": "markdown",
   "id": "cb08777c",
   "metadata": {},
   "source": [
    "No null values found"
   ]
  },
  {
   "cell_type": "markdown",
   "id": "5cfc6fc9",
   "metadata": {},
   "source": [
    "## Q1. The company wishes to clarify whether there is any increase in sales after stepping into digital marketing.\n"
   ]
  },
  {
   "cell_type": "markdown",
   "id": "3d630436",
   "metadata": {},
   "source": [
    "#### First create the x , y variables as an array from the data"
   ]
  },
  {
   "cell_type": "code",
   "execution_count": 5,
   "id": "2286edf6",
   "metadata": {},
   "outputs": [],
   "source": [
    "x=np.array(sales['Sales_After_digital_add(in $)'])"
   ]
  },
  {
   "cell_type": "code",
   "execution_count": 6,
   "id": "022bb08b",
   "metadata": {},
   "outputs": [],
   "source": [
    "y=np.array(sales['Sales_before_digital_add(in $)'])"
   ]
  },
  {
   "cell_type": "markdown",
   "id": "88455b4c",
   "metadata": {},
   "source": [
    "#### State the hypothesis and significance level"
   ]
  },
  {
   "cell_type": "markdown",
   "id": "2530d0b2",
   "metadata": {},
   "source": [
    "### H_O : Average sales after digital add <= Average sales before digital add\n",
    "### H_1 : Average sales after digital add > Average sales before digital add  \n",
    "#### Significance level = 0.05"
   ]
  },
  {
   "cell_type": "markdown",
   "id": "bcab155a",
   "metadata": {},
   "source": [
    "#### Since the sample size is less than 30 we use t-test for independent variables using the scipy.stats.ttest_ind"
   ]
  },
  {
   "cell_type": "code",
   "execution_count": 7,
   "id": "6ae7a33f",
   "metadata": {},
   "outputs": [],
   "source": [
    "t_value,p=stat.ttest_ind(x,y,alternative='greater')"
   ]
  },
  {
   "cell_type": "code",
   "execution_count": 8,
   "id": "40b50d95",
   "metadata": {},
   "outputs": [
    {
     "name": "stdout",
     "output_type": "stream",
     "text": [
      "The p value:  1.3071840034523225e-16\n"
     ]
    }
   ],
   "source": [
    "print('The p value: ',p)"
   ]
  },
  {
   "cell_type": "markdown",
   "id": "f21d44ec",
   "metadata": {},
   "source": [
    "### Here p-value < 0.05\n",
    "### Hence we reject the null hypothesis\n",
    "### Therefore we can conclude that there is significant increase in sales after stepping into digital marketting."
   ]
  },
  {
   "cell_type": "markdown",
   "id": "ded10240",
   "metadata": {},
   "source": [
    "## Q2. The company needs to check whether there is any dependency between the features “Region” and “Manager”.\n"
   ]
  },
  {
   "cell_type": "markdown",
   "id": "0572b7ba",
   "metadata": {},
   "source": [
    "#### First we prep the data for the test by creating a pivot table show casing each Region and Manager pair."
   ]
  },
  {
   "cell_type": "code",
   "execution_count": 18,
   "id": "179fbd13",
   "metadata": {},
   "outputs": [],
   "source": [
    "df=pd.DataFrame(sales[['Region','Manager']].value_counts(),columns=['Total'])"
   ]
  },
  {
   "cell_type": "code",
   "execution_count": 19,
   "id": "8f4dc09b",
   "metadata": {},
   "outputs": [
    {
     "data": {
      "text/html": [
       "<div>\n",
       "<style scoped>\n",
       "    .dataframe tbody tr th:only-of-type {\n",
       "        vertical-align: middle;\n",
       "    }\n",
       "\n",
       "    .dataframe tbody tr th {\n",
       "        vertical-align: top;\n",
       "    }\n",
       "\n",
       "    .dataframe thead th {\n",
       "        text-align: right;\n",
       "    }\n",
       "</style>\n",
       "<table border=\"1\" class=\"dataframe\">\n",
       "  <thead>\n",
       "    <tr style=\"text-align: right;\">\n",
       "      <th>Manager</th>\n",
       "      <th>Manager - A</th>\n",
       "      <th>Manager - B</th>\n",
       "      <th>Manager - C</th>\n",
       "    </tr>\n",
       "    <tr>\n",
       "      <th>Region</th>\n",
       "      <th></th>\n",
       "      <th></th>\n",
       "      <th></th>\n",
       "    </tr>\n",
       "  </thead>\n",
       "  <tbody>\n",
       "    <tr>\n",
       "      <th>Region - A</th>\n",
       "      <td>4</td>\n",
       "      <td>3</td>\n",
       "      <td>3</td>\n",
       "    </tr>\n",
       "    <tr>\n",
       "      <th>Region - B</th>\n",
       "      <td>4</td>\n",
       "      <td>1</td>\n",
       "      <td>2</td>\n",
       "    </tr>\n",
       "    <tr>\n",
       "      <th>Region - C</th>\n",
       "      <td>1</td>\n",
       "      <td>3</td>\n",
       "      <td>1</td>\n",
       "    </tr>\n",
       "  </tbody>\n",
       "</table>\n",
       "</div>"
      ],
      "text/plain": [
       "Manager     Manager - A  Manager - B  Manager - C\n",
       "Region                                           \n",
       "Region - A            4            3            3\n",
       "Region - B            4            1            2\n",
       "Region - C            1            3            1"
      ]
     },
     "execution_count": 19,
     "metadata": {},
     "output_type": "execute_result"
    }
   ],
   "source": [
    "df=df.pivot_table(values='Total',index='Region',columns='Manager')\n",
    "df"
   ]
  },
  {
   "cell_type": "markdown",
   "id": "c4553ac8",
   "metadata": {},
   "source": [
    "#### Now define the hypothesis"
   ]
  },
  {
   "cell_type": "markdown",
   "id": "39a356da",
   "metadata": {},
   "source": [
    "### H_0 : The features Region and Manager are independent of each other\n",
    "### H_1 : They are dependent of each other   "
   ]
  },
  {
   "cell_type": "markdown",
   "id": "a3a7de36",
   "metadata": {},
   "source": [
    "#### Here we are using Chi-square test for independence to check whether the features Region and Manager are independent of each other or not"
   ]
  },
  {
   "cell_type": "code",
   "execution_count": 20,
   "id": "00530220",
   "metadata": {},
   "outputs": [
    {
     "name": "stdout",
     "output_type": "stream",
     "text": [
      "The pvalue : 0.5493991051158094\n"
     ]
    }
   ],
   "source": [
    "# Chi-square test of independence. \n",
    "c, p, dof, expected = stat.chi2_contingency(df) \n",
    "# Print the p-value\n",
    "print('The pvalue :', p)"
   ]
  },
  {
   "cell_type": "markdown",
   "id": "5a21dc87",
   "metadata": {},
   "source": [
    "### The pvalue > 0.05\n",
    "### Hence we have no reason to reject the null hypothesis\n",
    "### Therefore the features Region and Managers are independent of each other."
   ]
  },
  {
   "cell_type": "markdown",
   "id": "7f3c78a2",
   "metadata": {},
   "source": [
    "### End"
   ]
  }
 ],
 "metadata": {
  "kernelspec": {
   "display_name": "Python 3 (ipykernel)",
   "language": "python",
   "name": "python3"
  },
  "language_info": {
   "codemirror_mode": {
    "name": "ipython",
    "version": 3
   },
   "file_extension": ".py",
   "mimetype": "text/x-python",
   "name": "python",
   "nbconvert_exporter": "python",
   "pygments_lexer": "ipython3",
   "version": "3.8.12"
  }
 },
 "nbformat": 4,
 "nbformat_minor": 5
}
