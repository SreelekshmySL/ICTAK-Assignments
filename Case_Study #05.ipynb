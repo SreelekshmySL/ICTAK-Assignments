{
 "cells": [
  {
   "cell_type": "markdown",
   "id": "c4008f53",
   "metadata": {},
   "source": [
    "## Case_Study #05 , ANOVA\n",
    "### Sreelekshmy S L\n",
    "### NDSA_B4"
   ]
  },
  {
   "cell_type": "markdown",
   "id": "393e1dd4",
   "metadata": {},
   "source": [
    "#### Import necessary libraries"
   ]
  },
  {
   "cell_type": "code",
   "execution_count": 1,
   "id": "896ae274",
   "metadata": {},
   "outputs": [],
   "source": [
    "import numpy as np\n",
    "import pandas as pd\n",
    "import seaborn as sns\n",
    "import matplotlib.pyplot as plt\n",
    "import scipy.stats as stat"
   ]
  },
  {
   "cell_type": "markdown",
   "id": "8c403cb7",
   "metadata": {},
   "source": [
    "#### Read the data set"
   ]
  },
  {
   "cell_type": "code",
   "execution_count": 2,
   "id": "9ad3e1ef",
   "metadata": {},
   "outputs": [],
   "source": [
    "sales = pd.read_csv('Sales_data_zone_wise.csv')"
   ]
  },
  {
   "cell_type": "code",
   "execution_count": 3,
   "id": "1238c611",
   "metadata": {},
   "outputs": [
    {
     "data": {
      "text/html": [
       "<div>\n",
       "<style scoped>\n",
       "    .dataframe tbody tr th:only-of-type {\n",
       "        vertical-align: middle;\n",
       "    }\n",
       "\n",
       "    .dataframe tbody tr th {\n",
       "        vertical-align: top;\n",
       "    }\n",
       "\n",
       "    .dataframe thead th {\n",
       "        text-align: right;\n",
       "    }\n",
       "</style>\n",
       "<table border=\"1\" class=\"dataframe\">\n",
       "  <thead>\n",
       "    <tr style=\"text-align: right;\">\n",
       "      <th></th>\n",
       "      <th>Month</th>\n",
       "      <th>Zone - A</th>\n",
       "      <th>Zone - B</th>\n",
       "      <th>Zone - C</th>\n",
       "      <th>Zone - D</th>\n",
       "    </tr>\n",
       "  </thead>\n",
       "  <tbody>\n",
       "    <tr>\n",
       "      <th>0</th>\n",
       "      <td>Month - 1</td>\n",
       "      <td>1483525</td>\n",
       "      <td>1748451</td>\n",
       "      <td>1523308</td>\n",
       "      <td>2267260</td>\n",
       "    </tr>\n",
       "    <tr>\n",
       "      <th>1</th>\n",
       "      <td>Month - 2</td>\n",
       "      <td>1238428</td>\n",
       "      <td>1707421</td>\n",
       "      <td>2212113</td>\n",
       "      <td>1994341</td>\n",
       "    </tr>\n",
       "    <tr>\n",
       "      <th>2</th>\n",
       "      <td>Month - 3</td>\n",
       "      <td>1860771</td>\n",
       "      <td>2091194</td>\n",
       "      <td>1282374</td>\n",
       "      <td>1241600</td>\n",
       "    </tr>\n",
       "    <tr>\n",
       "      <th>3</th>\n",
       "      <td>Month - 4</td>\n",
       "      <td>1871571</td>\n",
       "      <td>1759617</td>\n",
       "      <td>2290580</td>\n",
       "      <td>2252681</td>\n",
       "    </tr>\n",
       "    <tr>\n",
       "      <th>4</th>\n",
       "      <td>Month - 5</td>\n",
       "      <td>1244922</td>\n",
       "      <td>1606010</td>\n",
       "      <td>1818334</td>\n",
       "      <td>1326062</td>\n",
       "    </tr>\n",
       "  </tbody>\n",
       "</table>\n",
       "</div>"
      ],
      "text/plain": [
       "       Month  Zone - A  Zone - B  Zone - C  Zone - D\n",
       "0  Month - 1   1483525   1748451   1523308   2267260\n",
       "1  Month - 2   1238428   1707421   2212113   1994341\n",
       "2  Month - 3   1860771   2091194   1282374   1241600\n",
       "3  Month - 4   1871571   1759617   2290580   2252681\n",
       "4  Month - 5   1244922   1606010   1818334   1326062"
      ]
     },
     "execution_count": 3,
     "metadata": {},
     "output_type": "execute_result"
    }
   ],
   "source": [
    "sales.head()"
   ]
  },
  {
   "cell_type": "markdown",
   "id": "b8c09f42",
   "metadata": {},
   "source": [
    "#### Check for null values"
   ]
  },
  {
   "cell_type": "code",
   "execution_count": 4,
   "id": "2a183a93",
   "metadata": {},
   "outputs": [
    {
     "data": {
      "text/plain": [
       "Month       0\n",
       "Zone - A    0\n",
       "Zone - B    0\n",
       "Zone - C    0\n",
       "Zone - D    0\n",
       "dtype: int64"
      ]
     },
     "execution_count": 4,
     "metadata": {},
     "output_type": "execute_result"
    }
   ],
   "source": [
    "sales.isnull().sum()"
   ]
  },
  {
   "cell_type": "markdown",
   "id": "70ea3e20",
   "metadata": {},
   "source": [
    "#### No null values found"
   ]
  },
  {
   "cell_type": "markdown",
   "id": "a9f84477",
   "metadata": {},
   "source": [
    "### Display the histograms showing the distribution of sales in each zone."
   ]
  },
  {
   "cell_type": "code",
   "execution_count": 5,
   "id": "e1b5da32",
   "metadata": {},
   "outputs": [
    {
     "data": {
      "image/png": "[encoded data removed]",
      "text/plain": [
       "<Figure size 720x576 with 4 Axes>"
      ]
     },
     "metadata": {
      "needs_background": "light"
     },
     "output_type": "display_data"
    }
   ],
   "source": [
    "sales.drop('Month',axis=1).hist(figsize=(10,8))\n",
    "plt.show()"
   ]
  },
  {
   "cell_type": "markdown",
   "id": "7c4cb3c5",
   "metadata": {},
   "source": [
    "## Q1. The mean sales generated by each zone."
   ]
  },
  {
   "cell_type": "markdown",
   "id": "fe7ba9db",
   "metadata": {},
   "source": [
    "#### Calculating the mean sales for  each zone"
   ]
  },
  {
   "cell_type": "code",
   "execution_count": 6,
   "id": "d1e0aaf3",
   "metadata": {},
   "outputs": [
    {
     "data": {
      "text/html": [
       "<div>\n",
       "<style scoped>\n",
       "    .dataframe tbody tr th:only-of-type {\n",
       "        vertical-align: middle;\n",
       "    }\n",
       "\n",
       "    .dataframe tbody tr th {\n",
       "        vertical-align: top;\n",
       "    }\n",
       "\n",
       "    .dataframe thead th {\n",
       "        text-align: right;\n",
       "    }\n",
       "</style>\n",
       "<table border=\"1\" class=\"dataframe\">\n",
       "  <thead>\n",
       "    <tr style=\"text-align: right;\">\n",
       "      <th></th>\n",
       "      <th>Mean</th>\n",
       "    </tr>\n",
       "  </thead>\n",
       "  <tbody>\n",
       "    <tr>\n",
       "      <th>Zone - A</th>\n",
       "      <td>1540493.0</td>\n",
       "    </tr>\n",
       "    <tr>\n",
       "      <th>Zone - B</th>\n",
       "      <td>1755560.0</td>\n",
       "    </tr>\n",
       "    <tr>\n",
       "      <th>Zone - C</th>\n",
       "      <td>1772871.0</td>\n",
       "    </tr>\n",
       "    <tr>\n",
       "      <th>Zone - D</th>\n",
       "      <td>1842927.0</td>\n",
       "    </tr>\n",
       "  </tbody>\n",
       "</table>\n",
       "</div>"
      ],
      "text/plain": [
       "               Mean\n",
       "Zone - A  1540493.0\n",
       "Zone - B  1755560.0\n",
       "Zone - C  1772871.0\n",
       "Zone - D  1842927.0"
      ]
     },
     "execution_count": 6,
     "metadata": {},
     "output_type": "execute_result"
    }
   ],
   "source": [
    "mean_sales=pd.DataFrame(np.round(sales.drop('Month',axis=1).mean()),columns=['Mean'])\n",
    "mean_sales"
   ]
  },
  {
   "cell_type": "markdown",
   "id": "4b6831bb",
   "metadata": {},
   "source": [
    "#### Plotting the mean values in a barplot."
   ]
  },
  {
   "cell_type": "code",
   "execution_count": 7,
   "id": "b63cb409",
   "metadata": {},
   "outputs": [
    {
     "data": {
      "text/plain": [
       "<AxesSubplot:ylabel='Mean'>"
      ]
     },
     "execution_count": 7,
     "metadata": {},
     "output_type": "execute_result"
    },
    {
     "data": {
      "image/png": "[encoded data removed]",
      "text/plain": [
       "<Figure size 432x288 with 1 Axes>"
      ]
     },
     "metadata": {
      "needs_background": "light"
     },
     "output_type": "display_data"
    }
   ],
   "source": [
    "sns.barplot(data=mean_sales,x=mean_sales.index,y=mean_sales['Mean'])"
   ]
  },
  {
   "cell_type": "markdown",
   "id": "927f5d9d",
   "metadata": {},
   "source": [
    "#### The highest average sales is found in Zone-D with a value of 1842927\n",
    "#### The lowest average sales is found in Zone-A with a value of 1540493\n",
    "#### Zone B and C have an almost same average sales which lies in between of zone-A and zone-D.\n",
    " \n"
   ]
  },
  {
   "cell_type": "markdown",
   "id": "b7089fc5",
   "metadata": {},
   "source": [
    "## Q2. Total sales generated by all the zones for each month.\n"
   ]
  },
  {
   "cell_type": "markdown",
   "id": "3885aeb7",
   "metadata": {},
   "source": [
    "#### Calculating the total sales by month"
   ]
  },
  {
   "cell_type": "code",
   "execution_count": 15,
   "id": "05cfa859",
   "metadata": {},
   "outputs": [
    {
     "data": {
      "text/html": [
       "<div>\n",
       "<style scoped>\n",
       "    .dataframe tbody tr th:only-of-type {\n",
       "        vertical-align: middle;\n",
       "    }\n",
       "\n",
       "    .dataframe tbody tr th {\n",
       "        vertical-align: top;\n",
       "    }\n",
       "\n",
       "    .dataframe thead th {\n",
       "        text-align: right;\n",
       "    }\n",
       "</style>\n",
       "<table border=\"1\" class=\"dataframe\">\n",
       "  <thead>\n",
       "    <tr style=\"text-align: right;\">\n",
       "      <th></th>\n",
       "      <th>Total</th>\n",
       "    </tr>\n",
       "    <tr>\n",
       "      <th>Month</th>\n",
       "      <th></th>\n",
       "    </tr>\n",
       "  </thead>\n",
       "  <tbody>\n",
       "    <tr>\n",
       "      <th>Month - 1</th>\n",
       "      <td>7022544</td>\n",
       "    </tr>\n",
       "    <tr>\n",
       "      <th>Month - 2</th>\n",
       "      <td>7152303</td>\n",
       "    </tr>\n",
       "    <tr>\n",
       "      <th>Month - 3</th>\n",
       "      <td>6475939</td>\n",
       "    </tr>\n",
       "    <tr>\n",
       "      <th>Month - 4</th>\n",
       "      <td>8174449</td>\n",
       "    </tr>\n",
       "    <tr>\n",
       "      <th>Month - 5</th>\n",
       "      <td>5995328</td>\n",
       "    </tr>\n",
       "    <tr>\n",
       "      <th>Month - 6</th>\n",
       "      <td>7151387</td>\n",
       "    </tr>\n",
       "    <tr>\n",
       "      <th>Month - 7</th>\n",
       "      <td>7287108</td>\n",
       "    </tr>\n",
       "    <tr>\n",
       "      <th>Month - 8</th>\n",
       "      <td>7816299</td>\n",
       "    </tr>\n",
       "    <tr>\n",
       "      <th>Month - 9</th>\n",
       "      <td>6703395</td>\n",
       "    </tr>\n",
       "    <tr>\n",
       "      <th>Month - 10</th>\n",
       "      <td>7128210</td>\n",
       "    </tr>\n",
       "    <tr>\n",
       "      <th>Month - 11</th>\n",
       "      <td>7032783</td>\n",
       "    </tr>\n",
       "    <tr>\n",
       "      <th>Month - 12</th>\n",
       "      <td>6111084</td>\n",
       "    </tr>\n",
       "    <tr>\n",
       "      <th>Month - 13</th>\n",
       "      <td>5925424</td>\n",
       "    </tr>\n",
       "    <tr>\n",
       "      <th>Month - 14</th>\n",
       "      <td>7155515</td>\n",
       "    </tr>\n",
       "    <tr>\n",
       "      <th>Month - 15</th>\n",
       "      <td>5934156</td>\n",
       "    </tr>\n",
       "    <tr>\n",
       "      <th>Month - 16</th>\n",
       "      <td>6506659</td>\n",
       "    </tr>\n",
       "    <tr>\n",
       "      <th>Month - 17</th>\n",
       "      <td>7149383</td>\n",
       "    </tr>\n",
       "    <tr>\n",
       "      <th>Month - 18</th>\n",
       "      <td>7083490</td>\n",
       "    </tr>\n",
       "    <tr>\n",
       "      <th>Month - 19</th>\n",
       "      <td>6971953</td>\n",
       "    </tr>\n",
       "    <tr>\n",
       "      <th>Month - 20</th>\n",
       "      <td>7124599</td>\n",
       "    </tr>\n",
       "    <tr>\n",
       "      <th>Month - 21</th>\n",
       "      <td>7389597</td>\n",
       "    </tr>\n",
       "    <tr>\n",
       "      <th>Month - 22</th>\n",
       "      <td>7560001</td>\n",
       "    </tr>\n",
       "    <tr>\n",
       "      <th>Month - 23</th>\n",
       "      <td>6687919</td>\n",
       "    </tr>\n",
       "    <tr>\n",
       "      <th>Month - 24</th>\n",
       "      <td>7784747</td>\n",
       "    </tr>\n",
       "    <tr>\n",
       "      <th>Month - 25</th>\n",
       "      <td>6095918</td>\n",
       "    </tr>\n",
       "    <tr>\n",
       "      <th>Month - 26</th>\n",
       "      <td>6512360</td>\n",
       "    </tr>\n",
       "    <tr>\n",
       "      <th>Month - 27</th>\n",
       "      <td>6267918</td>\n",
       "    </tr>\n",
       "    <tr>\n",
       "      <th>Month - 28</th>\n",
       "      <td>7470920</td>\n",
       "    </tr>\n",
       "    <tr>\n",
       "      <th>Month - 29</th>\n",
       "      <td>6772277</td>\n",
       "    </tr>\n",
       "  </tbody>\n",
       "</table>\n",
       "</div>"
      ],
      "text/plain": [
       "              Total\n",
       "Month              \n",
       "Month - 1   7022544\n",
       "Month - 2   7152303\n",
       "Month - 3   6475939\n",
       "Month - 4   8174449\n",
       "Month - 5   5995328\n",
       "Month - 6   7151387\n",
       "Month - 7   7287108\n",
       "Month - 8   7816299\n",
       "Month - 9   6703395\n",
       "Month - 10  7128210\n",
       "Month - 11  7032783\n",
       "Month - 12  6111084\n",
       "Month - 13  5925424\n",
       "Month - 14  7155515\n",
       "Month - 15  5934156\n",
       "Month - 16  6506659\n",
       "Month - 17  7149383\n",
       "Month - 18  7083490\n",
       "Month - 19  6971953\n",
       "Month - 20  7124599\n",
       "Month - 21  7389597\n",
       "Month - 22  7560001\n",
       "Month - 23  6687919\n",
       "Month - 24  7784747\n",
       "Month - 25  6095918\n",
       "Month - 26  6512360\n",
       "Month - 27  6267918\n",
       "Month - 28  7470920\n",
       "Month - 29  6772277"
      ]
     },
     "execution_count": 15,
     "metadata": {},
     "output_type": "execute_result"
    }
   ],
   "source": [
    "import warnings \n",
    "warnings.filterwarnings('ignore')\n",
    "month_sales=pd.DataFrame(np.array(sales.sum(axis=1)),sales['Month'],columns=['Total'])\n",
    "\n",
    "month_sales"
   ]
  },
  {
   "cell_type": "markdown",
   "id": "0e76f1a3",
   "metadata": {},
   "source": [
    "### Plotting a line graph for total sales per month"
   ]
  },
  {
   "cell_type": "code",
   "execution_count": 9,
   "id": "ca6454bc",
   "metadata": {},
   "outputs": [
    {
     "data": {
      "image/png": "[encoded data removed]",
      "text/plain": [
       "<Figure size 864x432 with 1 Axes>"
      ]
     },
     "metadata": {
      "needs_background": "light"
     },
     "output_type": "display_data"
    }
   ],
   "source": [
    "x=month_sales.index\n",
    "y=month_sales['Total']\n",
    "plt.figure(figsize=(12,6))\n",
    "plt.plot(x,y,marker='o')\n",
    "plt.xticks(rotation=90);"
   ]
  },
  {
   "cell_type": "markdown",
   "id": "21d9489c",
   "metadata": {},
   "source": [
    "### Printing the maximum and minimum total sales and corresponding months"
   ]
  },
  {
   "cell_type": "code",
   "execution_count": 10,
   "id": "6e3d200a",
   "metadata": {},
   "outputs": [
    {
     "name": "stdout",
     "output_type": "stream",
     "text": [
      "The highest value of total sales is  8174449  and it occured in  Month - 4\n"
     ]
    }
   ],
   "source": [
    "print('The highest value of total sales is ',month_sales['Total'].max(),' and it occured in ',month_sales['Total'].idxmax())"
   ]
  },
  {
   "cell_type": "code",
   "execution_count": 11,
   "id": "de2e2375",
   "metadata": {},
   "outputs": [
    {
     "name": "stdout",
     "output_type": "stream",
     "text": [
      "The lowest value of total sales is  5925424  and it occured in  Month - 13\n"
     ]
    }
   ],
   "source": [
    "print('The lowest value of total sales is ',month_sales['Total'].min(),' and it occured in ',month_sales['Total'].idxmin())"
   ]
  },
  {
   "cell_type": "markdown",
   "id": "58043de7",
   "metadata": {},
   "source": [
    "#### Hence Month-4 generates the highest total sales of about 8174449 among all and Month-13 generates the lowest of about 5925424 \n",
    "#### And the graph shows that the sales are not steadily increasing or decreasing over the months, it has multiple peaks and troughs"
   ]
  },
  {
   "cell_type": "markdown",
   "id": "20443647",
   "metadata": {},
   "source": [
    "## Q3.  Check whether all the zones generate the same amount of sales."
   ]
  },
  {
   "cell_type": "markdown",
   "id": "d202fb97",
   "metadata": {},
   "source": [
    "### H_0: The average sales generated by all the four zones are same\n",
    "### H_a : The average sales generated by all the four zones are not the same"
   ]
  },
  {
   "cell_type": "markdown",
   "id": "78f487de",
   "metadata": {},
   "source": [
    "Seperating out the categories to test."
   ]
  },
  {
   "cell_type": "code",
   "execution_count": 12,
   "id": "1af2bf7f",
   "metadata": {},
   "outputs": [],
   "source": [
    "zone_A = sales['Zone - A']\n",
    "zone_B = sales['Zone - B']\n",
    "zone_C = sales['Zone - C']\n",
    "zone_D = sales['Zone - D']"
   ]
  },
  {
   "cell_type": "markdown",
   "id": "986d4216",
   "metadata": {},
   "source": [
    "#### Here we use one-way ANOVA to test the given hypothesis, since we have four categories and a single variable to compare.\n",
    "#### For this we calculate the f-statistics and p-value using f_oneway() "
   ]
  },
  {
   "cell_type": "code",
   "execution_count": 13,
   "id": "c72e97ae",
   "metadata": {},
   "outputs": [
    {
     "name": "stdout",
     "output_type": "stream",
     "text": [
      "F-statistics :  5.672056106843581\n"
     ]
    }
   ],
   "source": [
    "F_stat,p=stat.f_oneway(zone_A,zone_B,zone_C,zone_D)\n",
    "print('F-statistics : ',F_stat)"
   ]
  },
  {
   "cell_type": "code",
   "execution_count": 14,
   "id": "72dcef64",
   "metadata": {},
   "outputs": [
    {
     "name": "stdout",
     "output_type": "stream",
     "text": [
      "p_value :  0.0011827601694503335\n"
     ]
    }
   ],
   "source": [
    "print('p_value : ',p)"
   ]
  },
  {
   "cell_type": "markdown",
   "id": "df1bde1f",
   "metadata": {},
   "source": [
    "### Here the p-value < 0.05 , the significance level\n",
    "### Hence we reject the null hypothesis.\n",
    "### Therefore we conclude that there is significant difference in the average sales generated by each zones\n",
    "### i.e, the four zones does not generate same amount of sales."
   ]
  },
  {
   "cell_type": "markdown",
   "id": "a71192f8",
   "metadata": {},
   "source": [
    "### End"
   ]
  }
 ],
 "metadata": {
  "kernelspec": {
   "display_name": "Python 3 (ipykernel)",
   "language": "python",
   "name": "python3"
  },
  "language_info": {
   "codemirror_mode": {
    "name": "ipython",
    "version": 3
   },
   "file_extension": ".py",
   "mimetype": "text/x-python",
   "name": "python",
   "nbconvert_exporter": "python",
   "pygments_lexer": "ipython3",
   "version": "3.8.12"
  }
 },
 "nbformat": 4,
 "nbformat_minor": 5
}
