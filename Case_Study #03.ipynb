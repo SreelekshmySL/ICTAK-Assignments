{
 "cells": [
  {
   "cell_type": "markdown",
   "id": "ed0e3ac6",
   "metadata": {},
   "source": [
    "### Case Study #03\n",
    "### Sreelekshmy S L\n",
    "### NDSA_B4"
   ]
  },
  {
   "cell_type": "markdown",
   "id": "668dccbd",
   "metadata": {},
   "source": [
    "Import all the necessary libraries."
   ]
  },
  {
   "cell_type": "code",
   "execution_count": 1,
   "id": "b8cfa71d",
   "metadata": {},
   "outputs": [],
   "source": [
    "import numpy as np\n",
    "import pandas as pd\n",
    "import matplotlib.pyplot as plt\n",
    "import seaborn as sns"
   ]
  },
  {
   "cell_type": "code",
   "execution_count": 2,
   "id": "dbb619e8",
   "metadata": {},
   "outputs": [],
   "source": [
    "import warnings\n",
    "warnings.filterwarnings('ignore')"
   ]
  },
  {
   "cell_type": "markdown",
   "id": "cbe1b4da",
   "metadata": {},
   "source": [
    "Read the data using pandas."
   ]
  },
  {
   "cell_type": "code",
   "execution_count": 3,
   "id": "fb1facac",
   "metadata": {},
   "outputs": [],
   "source": [
    "add_profit=pd.read_csv('Add_sales_data_2018.csv')"
   ]
  },
  {
   "cell_type": "code",
   "execution_count": 4,
   "id": "56ee1f92",
   "metadata": {},
   "outputs": [
    {
     "data": {
      "text/html": [
       "<div>\n",
       "<style scoped>\n",
       "    .dataframe tbody tr th:only-of-type {\n",
       "        vertical-align: middle;\n",
       "    }\n",
       "\n",
       "    .dataframe tbody tr th {\n",
       "        vertical-align: top;\n",
       "    }\n",
       "\n",
       "    .dataframe thead th {\n",
       "        text-align: right;\n",
       "    }\n",
       "</style>\n",
       "<table border=\"1\" class=\"dataframe\">\n",
       "  <thead>\n",
       "    <tr style=\"text-align: right;\">\n",
       "      <th></th>\n",
       "      <th>Date</th>\n",
       "      <th>Add1(in Thousands)</th>\n",
       "      <th>Add2(in Thousands)</th>\n",
       "      <th>Add3(in Thousands)</th>\n",
       "      <th>Add4(in Thousands)</th>\n",
       "      <th>Add5(in Thousands)</th>\n",
       "      <th>Profit(in Thousands)</th>\n",
       "    </tr>\n",
       "  </thead>\n",
       "  <tbody>\n",
       "    <tr>\n",
       "      <th>0</th>\n",
       "      <td>2018-10-08</td>\n",
       "      <td>208.00</td>\n",
       "      <td>222.25</td>\n",
       "      <td>206.85</td>\n",
       "      <td>216.00</td>\n",
       "      <td>215.15</td>\n",
       "      <td>4093.065</td>\n",
       "    </tr>\n",
       "    <tr>\n",
       "      <th>1</th>\n",
       "      <td>2018-10-05</td>\n",
       "      <td>217.00</td>\n",
       "      <td>218.60</td>\n",
       "      <td>205.90</td>\n",
       "      <td>210.25</td>\n",
       "      <td>209.20</td>\n",
       "      <td>4042.448</td>\n",
       "    </tr>\n",
       "    <tr>\n",
       "      <th>2</th>\n",
       "      <td>2018-10-04</td>\n",
       "      <td>223.50</td>\n",
       "      <td>227.80</td>\n",
       "      <td>216.15</td>\n",
       "      <td>217.25</td>\n",
       "      <td>218.20</td>\n",
       "      <td>4213.819</td>\n",
       "    </tr>\n",
       "    <tr>\n",
       "      <th>3</th>\n",
       "      <td>2018-10-03</td>\n",
       "      <td>230.00</td>\n",
       "      <td>237.50</td>\n",
       "      <td>225.75</td>\n",
       "      <td>226.45</td>\n",
       "      <td>227.60</td>\n",
       "      <td>4391.665</td>\n",
       "    </tr>\n",
       "    <tr>\n",
       "      <th>4</th>\n",
       "      <td>2018-10-01</td>\n",
       "      <td>234.55</td>\n",
       "      <td>234.60</td>\n",
       "      <td>221.05</td>\n",
       "      <td>230.30</td>\n",
       "      <td>230.90</td>\n",
       "      <td>4350.683</td>\n",
       "    </tr>\n",
       "  </tbody>\n",
       "</table>\n",
       "</div>"
      ],
      "text/plain": [
       "         Date  Add1(in Thousands)  Add2(in Thousands)  Add3(in Thousands)  \\\n",
       "0  2018-10-08              208.00              222.25              206.85   \n",
       "1  2018-10-05              217.00              218.60              205.90   \n",
       "2  2018-10-04              223.50              227.80              216.15   \n",
       "3  2018-10-03              230.00              237.50              225.75   \n",
       "4  2018-10-01              234.55              234.60              221.05   \n",
       "\n",
       "   Add4(in Thousands)  Add5(in Thousands)  Profit(in Thousands)  \n",
       "0              216.00              215.15              4093.065  \n",
       "1              210.25              209.20              4042.448  \n",
       "2              217.25              218.20              4213.819  \n",
       "3              226.45              227.60              4391.665  \n",
       "4              230.30              230.90              4350.683  "
      ]
     },
     "execution_count": 4,
     "metadata": {},
     "output_type": "execute_result"
    }
   ],
   "source": [
    "add_profit.head()"
   ]
  },
  {
   "cell_type": "code",
   "execution_count": 5,
   "id": "3b694886",
   "metadata": {},
   "outputs": [
    {
     "data": {
      "text/plain": [
       "Date                    0\n",
       "Add1(in Thousands)      0\n",
       "Add2(in Thousands)      0\n",
       "Add3(in Thousands)      0\n",
       "Add4(in Thousands)      0\n",
       "Add5(in Thousands)      0\n",
       "Profit(in Thousands)    0\n",
       "dtype: int64"
      ]
     },
     "execution_count": 5,
     "metadata": {},
     "output_type": "execute_result"
    }
   ],
   "source": [
    "add_profit.isna().sum()"
   ]
  },
  {
   "cell_type": "markdown",
   "id": "f9da7fc7",
   "metadata": {},
   "source": [
    "There are no null values in the data set."
   ]
  },
  {
   "cell_type": "code",
   "execution_count": 6,
   "id": "6a3b4824",
   "metadata": {},
   "outputs": [
    {
     "name": "stdout",
     "output_type": "stream",
     "text": [
      "<class 'pandas.core.frame.DataFrame'>\n",
      "RangeIndex: 205 entries, 0 to 204\n",
      "Data columns (total 7 columns):\n",
      " #   Column                Non-Null Count  Dtype  \n",
      "---  ------                --------------  -----  \n",
      " 0   Date                  205 non-null    object \n",
      " 1   Add1(in Thousands)    205 non-null    float64\n",
      " 2   Add2(in Thousands)    205 non-null    float64\n",
      " 3   Add3(in Thousands)    205 non-null    float64\n",
      " 4   Add4(in Thousands)    205 non-null    float64\n",
      " 5   Add5(in Thousands)    205 non-null    float64\n",
      " 6   Profit(in Thousands)  205 non-null    float64\n",
      "dtypes: float64(6), object(1)\n",
      "memory usage: 11.3+ KB\n"
     ]
    }
   ],
   "source": [
    "add_profit.info()"
   ]
  },
  {
   "cell_type": "markdown",
   "id": "ebe16e50",
   "metadata": {},
   "source": [
    "## 1. First of all, check whether there is any relationship between the amount spent for advertising through five different companies and profit generated."
   ]
  },
  {
   "cell_type": "markdown",
   "id": "28744a82",
   "metadata": {},
   "source": [
    "#### First check the correlation coefficient between each features in the data."
   ]
  },
  {
   "cell_type": "code",
   "execution_count": 7,
   "id": "71add8fe",
   "metadata": {},
   "outputs": [
    {
     "data": {
      "text/html": [
       "<div>\n",
       "<style scoped>\n",
       "    .dataframe tbody tr th:only-of-type {\n",
       "        vertical-align: middle;\n",
       "    }\n",
       "\n",
       "    .dataframe tbody tr th {\n",
       "        vertical-align: top;\n",
       "    }\n",
       "\n",
       "    .dataframe thead th {\n",
       "        text-align: right;\n",
       "    }\n",
       "</style>\n",
       "<table border=\"1\" class=\"dataframe\">\n",
       "  <thead>\n",
       "    <tr style=\"text-align: right;\">\n",
       "      <th></th>\n",
       "      <th>Add1(in Thousands)</th>\n",
       "      <th>Add2(in Thousands)</th>\n",
       "      <th>Add3(in Thousands)</th>\n",
       "      <th>Add4(in Thousands)</th>\n",
       "      <th>Add5(in Thousands)</th>\n",
       "      <th>Profit(in Thousands)</th>\n",
       "    </tr>\n",
       "  </thead>\n",
       "  <tbody>\n",
       "    <tr>\n",
       "      <th>Add1(in Thousands)</th>\n",
       "      <td>1.000000</td>\n",
       "      <td>0.990976</td>\n",
       "      <td>0.986274</td>\n",
       "      <td>0.976365</td>\n",
       "      <td>0.976716</td>\n",
       "      <td>0.991975</td>\n",
       "    </tr>\n",
       "    <tr>\n",
       "      <th>Add2(in Thousands)</th>\n",
       "      <td>0.990976</td>\n",
       "      <td>1.000000</td>\n",
       "      <td>0.987990</td>\n",
       "      <td>0.989921</td>\n",
       "      <td>0.990285</td>\n",
       "      <td>0.999145</td>\n",
       "    </tr>\n",
       "    <tr>\n",
       "      <th>Add3(in Thousands)</th>\n",
       "      <td>0.986274</td>\n",
       "      <td>0.987990</td>\n",
       "      <td>1.000000</td>\n",
       "      <td>0.991343</td>\n",
       "      <td>0.991908</td>\n",
       "      <td>0.993389</td>\n",
       "    </tr>\n",
       "    <tr>\n",
       "      <th>Add4(in Thousands)</th>\n",
       "      <td>0.976365</td>\n",
       "      <td>0.989921</td>\n",
       "      <td>0.991343</td>\n",
       "      <td>1.000000</td>\n",
       "      <td>0.999699</td>\n",
       "      <td>0.993346</td>\n",
       "    </tr>\n",
       "    <tr>\n",
       "      <th>Add5(in Thousands)</th>\n",
       "      <td>0.976716</td>\n",
       "      <td>0.990285</td>\n",
       "      <td>0.991908</td>\n",
       "      <td>0.999699</td>\n",
       "      <td>1.000000</td>\n",
       "      <td>0.993710</td>\n",
       "    </tr>\n",
       "    <tr>\n",
       "      <th>Profit(in Thousands)</th>\n",
       "      <td>0.991975</td>\n",
       "      <td>0.999145</td>\n",
       "      <td>0.993389</td>\n",
       "      <td>0.993346</td>\n",
       "      <td>0.993710</td>\n",
       "      <td>1.000000</td>\n",
       "    </tr>\n",
       "  </tbody>\n",
       "</table>\n",
       "</div>"
      ],
      "text/plain": [
       "                      Add1(in Thousands)  Add2(in Thousands)  \\\n",
       "Add1(in Thousands)              1.000000            0.990976   \n",
       "Add2(in Thousands)              0.990976            1.000000   \n",
       "Add3(in Thousands)              0.986274            0.987990   \n",
       "Add4(in Thousands)              0.976365            0.989921   \n",
       "Add5(in Thousands)              0.976716            0.990285   \n",
       "Profit(in Thousands)            0.991975            0.999145   \n",
       "\n",
       "                      Add3(in Thousands)  Add4(in Thousands)  \\\n",
       "Add1(in Thousands)              0.986274            0.976365   \n",
       "Add2(in Thousands)              0.987990            0.989921   \n",
       "Add3(in Thousands)              1.000000            0.991343   \n",
       "Add4(in Thousands)              0.991343            1.000000   \n",
       "Add5(in Thousands)              0.991908            0.999699   \n",
       "Profit(in Thousands)            0.993389            0.993346   \n",
       "\n",
       "                      Add5(in Thousands)  Profit(in Thousands)  \n",
       "Add1(in Thousands)              0.976716              0.991975  \n",
       "Add2(in Thousands)              0.990285              0.999145  \n",
       "Add3(in Thousands)              0.991908              0.993389  \n",
       "Add4(in Thousands)              0.999699              0.993346  \n",
       "Add5(in Thousands)              1.000000              0.993710  \n",
       "Profit(in Thousands)            0.993710              1.000000  "
      ]
     },
     "execution_count": 7,
     "metadata": {},
     "output_type": "execute_result"
    }
   ],
   "source": [
    "add_profit.corr()"
   ]
  },
  {
   "cell_type": "markdown",
   "id": "f00513d1",
   "metadata": {},
   "source": [
    "#### Now present the correlation matrix using a heatmap to better understand it."
   ]
  },
  {
   "cell_type": "code",
   "execution_count": 8,
   "id": "29c85c91",
   "metadata": {},
   "outputs": [
    {
     "data": {
      "text/plain": [
       "<AxesSubplot:>"
      ]
     },
     "execution_count": 8,
     "metadata": {},
     "output_type": "execute_result"
    },
    {
     "data": {
      "image/png": "[encoded data removed]",
      "text/plain": [
       "<Figure size 432x288 with 2 Axes>"
      ]
     },
     "metadata": {
      "needs_background": "light"
     },
     "output_type": "display_data"
    }
   ],
   "source": [
    "sns.heatmap(add_profit.corr(),annot=True,vmin=0.97,vmax=1,cmap=sns.diverging_palette(20, 220, n=200))"
   ]
  },
  {
   "cell_type": "markdown",
   "id": "f357b66c",
   "metadata": {},
   "source": [
    "### From the heatmap it's clear that all the five Adds are highly positively correlated  to each other as well as the profit. <br>This shows that as amount spend on each of these add sales increases the profit also increases. Hence we can say that all these Adds are beneficiary for the company. <br>If we look closer we get the Add2 shows the highest correlation among all (nearest to 1). Hence if we are to choose one Add among the five which makes the company more profitable it would be Add2."
   ]
  },
  {
   "cell_type": "code",
   "execution_count": 9,
   "id": "8138d53a",
   "metadata": {},
   "outputs": [
    {
     "data": {
      "image/png": "[encoded data removed]",
      "text/plain": [
       "<Figure size 720x576 with 6 Axes>"
      ]
     },
     "metadata": {
      "needs_background": "light"
     },
     "output_type": "display_data"
    }
   ],
   "source": [
    "add_profit.drop(['Date'],axis=1).hist(figsize=(10,8))\n",
    "plt.show()"
   ]
  },
  {
   "cell_type": "markdown",
   "id": "5519ffbb",
   "metadata": {},
   "source": [
    "The Adds and the profit are almost normally distributed"
   ]
  },
  {
   "cell_type": "markdown",
   "id": "1acafe60",
   "metadata": {},
   "source": [
    "## 2. Build a regression model to predict the profit from the given data and comment your findings on it."
   ]
  },
  {
   "cell_type": "markdown",
   "id": "621b46ad",
   "metadata": {},
   "source": [
    "#### Seperate out the dependent and independent variables. Here the profit is the dependent/target variable. Here we are not doing any feature reduction as there are only 4 attributes contributing and all of them are highly correlated to profit."
   ]
  },
  {
   "cell_type": "code",
   "execution_count": 10,
   "id": "a3b74214",
   "metadata": {},
   "outputs": [],
   "source": [
    "y=add_profit['Profit(in Thousands)']\n",
    "X=add_profit.drop(['Profit(in Thousands)','Date'],axis=1)"
   ]
  },
  {
   "cell_type": "markdown",
   "id": "fd405246",
   "metadata": {},
   "source": [
    "#### Perform the train test splitting for the purpose of training certain amount of data and then testing the rest."
   ]
  },
  {
   "cell_type": "code",
   "execution_count": 11,
   "id": "8c937ae6",
   "metadata": {},
   "outputs": [],
   "source": [
    "from sklearn.model_selection import train_test_split"
   ]
  },
  {
   "cell_type": "markdown",
   "id": "38957b6c",
   "metadata": {},
   "source": [
    "#### Taking 25% of data as test data"
   ]
  },
  {
   "cell_type": "code",
   "execution_count": 12,
   "id": "aadcd98d",
   "metadata": {},
   "outputs": [],
   "source": [
    "X_train, X_test, y_train, y_test = train_test_split(X, y, test_size=0.25, random_state=42)"
   ]
  },
  {
   "cell_type": "markdown",
   "id": "5b6d99ca",
   "metadata": {},
   "source": [
    "#### Create an instance for the linear model."
   ]
  },
  {
   "cell_type": "code",
   "execution_count": 13,
   "id": "782ae51f",
   "metadata": {},
   "outputs": [],
   "source": [
    "from sklearn.linear_model import LinearRegression"
   ]
  },
  {
   "cell_type": "code",
   "execution_count": 14,
   "id": "a00b94e6",
   "metadata": {},
   "outputs": [],
   "source": [
    "lr = LinearRegression()"
   ]
  },
  {
   "cell_type": "markdown",
   "id": "136eb6f5",
   "metadata": {},
   "source": [
    "#### Fit the training data to the model and then predict for the test set using the model."
   ]
  },
  {
   "cell_type": "code",
   "execution_count": 15,
   "id": "4d3c525d",
   "metadata": {},
   "outputs": [],
   "source": [
    "lr.fit(X_train,y_train)\n",
    "predictions=lr.predict(X_test)"
   ]
  },
  {
   "cell_type": "markdown",
   "id": "c69c7e7c",
   "metadata": {},
   "source": [
    "#### Now manually compare a few predictions with original y value"
   ]
  },
  {
   "cell_type": "code",
   "execution_count": 16,
   "id": "16c79b50",
   "metadata": {},
   "outputs": [
    {
     "data": {
      "text/plain": [
       "15     4152.066\n",
       "9      4446.441\n",
       "100    5131.898\n",
       "132    4907.560\n",
       "68     5004.282\n",
       "Name: Profit(in Thousands), dtype: float64"
      ]
     },
     "execution_count": 16,
     "metadata": {},
     "output_type": "execute_result"
    }
   ],
   "source": [
    "y_test[:5]"
   ]
  },
  {
   "cell_type": "code",
   "execution_count": 17,
   "id": "ead8c96c",
   "metadata": {},
   "outputs": [
    {
     "data": {
      "text/plain": [
       "array([4152.066, 4446.441, 5131.898, 4907.56 , 5004.282])"
      ]
     },
     "execution_count": 17,
     "metadata": {},
     "output_type": "execute_result"
    }
   ],
   "source": [
    "predictions[:5]"
   ]
  },
  {
   "cell_type": "markdown",
   "id": "aa603160",
   "metadata": {},
   "source": [
    "It seems like the above values are same."
   ]
  },
  {
   "cell_type": "markdown",
   "id": "24d90a8b",
   "metadata": {},
   "source": [
    "#### Now evaluate the model using a metric named mean_squared_error"
   ]
  },
  {
   "cell_type": "code",
   "execution_count": 18,
   "id": "7dfef8a5",
   "metadata": {},
   "outputs": [],
   "source": [
    "from sklearn.metrics import mean_squared_error"
   ]
  },
  {
   "cell_type": "code",
   "execution_count": 19,
   "id": "a502dc36",
   "metadata": {},
   "outputs": [
    {
     "name": "stdout",
     "output_type": "stream",
     "text": [
      "MSE is:  3.181463894434722e-25\n"
     ]
    }
   ],
   "source": [
    "print('MSE is: ',mean_squared_error(y_test,predictions))"
   ]
  },
  {
   "cell_type": "markdown",
   "id": "fd672526",
   "metadata": {},
   "source": [
    "### Findings: <br> The linear model fits the dataset perfectly as we got a very small mean squared error. <br>This is mainly because all the four Add spendings are highly correlated to the Profit.<br> Hence if we input any set of add spending we will get the exact profit it is going to generate."
   ]
  },
  {
   "cell_type": "markdown",
   "id": "e2b5a3e7",
   "metadata": {},
   "source": [
    "## 3. Predict the profit generated by the company, if they wish to spend the following amount for advertisement"
   ]
  },
  {
   "cell_type": "markdown",
   "id": "c342df10",
   "metadata": {},
   "source": [
    "#### Enter the values of the add sales in a list of list. And predict their profit using the model created."
   ]
  },
  {
   "cell_type": "code",
   "execution_count": 21,
   "id": "55410edf",
   "metadata": {},
   "outputs": [],
   "source": [
    "X_obs = [[290,312,309,298,320]]\n",
    "preds= lr.predict(X_obs)"
   ]
  },
  {
   "cell_type": "code",
   "execution_count": 22,
   "id": "cd4c0fdf",
   "metadata": {},
   "outputs": [
    {
     "data": {
      "text/plain": [
       "array([5820.06])"
      ]
     },
     "execution_count": 22,
     "metadata": {},
     "output_type": "execute_result"
    }
   ],
   "source": [
    "preds"
   ]
  },
  {
   "cell_type": "markdown",
   "id": "9a2603b2",
   "metadata": {},
   "source": [
    "#### In case the values are not in correct order or have more than 1 value per feature make a dataframe of a dictionary containing the column name as key and their corresponding values."
   ]
  },
  {
   "cell_type": "code",
   "execution_count": 24,
   "id": "e6eebe51",
   "metadata": {},
   "outputs": [],
   "source": [
    "X_ob= pd.DataFrame({'Add1(in Thousands)':[290],'Add2(in Thousands)':[312],'Add3(in Thousands)':[309],'Add4(in Thousands)':[298],'Add5(in Thousands)':[320]})\n",
    "pred = lr.predict(X_ob)"
   ]
  },
  {
   "cell_type": "code",
   "execution_count": 25,
   "id": "9345bddf",
   "metadata": {},
   "outputs": [
    {
     "name": "stdout",
     "output_type": "stream",
     "text": [
      "The predicted Profit(in thousands) is: 5820.06\n"
     ]
    }
   ],
   "source": [
    "print('The predicted Profit(in thousands) is:',np.round(pred[0],2))"
   ]
  },
  {
   "cell_type": "markdown",
   "id": "c2392a71",
   "metadata": {},
   "source": [
    "### Hence the predicted profit(in thousands) generated for the given set of add spendings is 5820.06"
   ]
  },
  {
   "cell_type": "markdown",
   "id": "77a1dcab",
   "metadata": {},
   "source": [
    "### End"
   ]
  }
 ],
 "metadata": {
  "kernelspec": {
   "display_name": "Python 3 (ipykernel)",
   "language": "python",
   "name": "python3"
  },
  "language_info": {
   "codemirror_mode": {
    "name": "ipython",
    "version": 3
   },
   "file_extension": ".py",
   "mimetype": "text/x-python",
   "name": "python",
   "nbconvert_exporter": "python",
   "pygments_lexer": "ipython3",
   "version": "3.8.12"
  }
 },
 "nbformat": 4,
 "nbformat_minor": 5
}
