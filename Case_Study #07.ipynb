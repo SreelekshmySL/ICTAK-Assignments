{
 "cells": [
  {
   "cell_type": "markdown",
   "id": "aee62327",
   "metadata": {},
   "source": [
    "# Case study #07, Supervised ML\n",
    "### Sreelekshmy S L\n",
    "### NDSA_B4"
   ]
  },
  {
   "cell_type": "markdown",
   "id": "2fa1ad37",
   "metadata": {},
   "source": [
    "#### Import necessary libraries"
   ]
  },
  {
   "cell_type": "code",
   "execution_count": 1,
   "id": "dc0ed3d7",
   "metadata": {},
   "outputs": [],
   "source": [
    "import numpy as np\n",
    "import pandas as pd\n",
    "import matplotlib.pyplot as plt\n",
    "import seaborn as sns"
   ]
  },
  {
   "cell_type": "markdown",
   "id": "d228896b",
   "metadata": {},
   "source": [
    "## 1. Read the dataset to the python environment"
   ]
  },
  {
   "cell_type": "code",
   "execution_count": 2,
   "id": "334a9f58",
   "metadata": {},
   "outputs": [],
   "source": [
    "iris_df = pd.read_excel('iris.xls')"
   ]
  },
  {
   "cell_type": "code",
   "execution_count": 3,
   "id": "782dc978",
   "metadata": {},
   "outputs": [
    {
     "data": {
      "text/html": [
       "<div>\n",
       "<style scoped>\n",
       "    .dataframe tbody tr th:only-of-type {\n",
       "        vertical-align: middle;\n",
       "    }\n",
       "\n",
       "    .dataframe tbody tr th {\n",
       "        vertical-align: top;\n",
       "    }\n",
       "\n",
       "    .dataframe thead th {\n",
       "        text-align: right;\n",
       "    }\n",
       "</style>\n",
       "<table border=\"1\" class=\"dataframe\">\n",
       "  <thead>\n",
       "    <tr style=\"text-align: right;\">\n",
       "      <th></th>\n",
       "      <th>SL</th>\n",
       "      <th>SW</th>\n",
       "      <th>PL</th>\n",
       "      <th>PW</th>\n",
       "      <th>Classification</th>\n",
       "    </tr>\n",
       "  </thead>\n",
       "  <tbody>\n",
       "    <tr>\n",
       "      <th>0</th>\n",
       "      <td>5.1</td>\n",
       "      <td>3.5</td>\n",
       "      <td>1.4</td>\n",
       "      <td>0.2</td>\n",
       "      <td>Iris-setosa</td>\n",
       "    </tr>\n",
       "    <tr>\n",
       "      <th>1</th>\n",
       "      <td>4.9</td>\n",
       "      <td>3.0</td>\n",
       "      <td>1.4</td>\n",
       "      <td>0.2</td>\n",
       "      <td>Iris-setosa</td>\n",
       "    </tr>\n",
       "    <tr>\n",
       "      <th>2</th>\n",
       "      <td>NaN</td>\n",
       "      <td>3.2</td>\n",
       "      <td>1.3</td>\n",
       "      <td>0.2</td>\n",
       "      <td>Iris-setosa</td>\n",
       "    </tr>\n",
       "    <tr>\n",
       "      <th>3</th>\n",
       "      <td>4.6</td>\n",
       "      <td>3.1</td>\n",
       "      <td>1.5</td>\n",
       "      <td>0.2</td>\n",
       "      <td>Iris-setosa</td>\n",
       "    </tr>\n",
       "    <tr>\n",
       "      <th>4</th>\n",
       "      <td>5.0</td>\n",
       "      <td>3.6</td>\n",
       "      <td>1.4</td>\n",
       "      <td>0.2</td>\n",
       "      <td>Iris-setosa</td>\n",
       "    </tr>\n",
       "  </tbody>\n",
       "</table>\n",
       "</div>"
      ],
      "text/plain": [
       "    SL   SW   PL   PW Classification\n",
       "0  5.1  3.5  1.4  0.2    Iris-setosa\n",
       "1  4.9  3.0  1.4  0.2    Iris-setosa\n",
       "2  NaN  3.2  1.3  0.2    Iris-setosa\n",
       "3  4.6  3.1  1.5  0.2    Iris-setosa\n",
       "4  5.0  3.6  1.4  0.2    Iris-setosa"
      ]
     },
     "execution_count": 3,
     "metadata": {},
     "output_type": "execute_result"
    }
   ],
   "source": [
    "iris_df.head()"
   ]
  },
  {
   "cell_type": "code",
   "execution_count": 4,
   "id": "01c9ee0f",
   "metadata": {},
   "outputs": [
    {
     "data": {
      "text/plain": [
       "(150, 5)"
      ]
     },
     "execution_count": 4,
     "metadata": {},
     "output_type": "execute_result"
    }
   ],
   "source": [
    "iris_df.shape"
   ]
  },
  {
   "cell_type": "markdown",
   "id": "83b66ffd",
   "metadata": {},
   "source": [
    "There are 150 rows and 5 columns."
   ]
  },
  {
   "cell_type": "code",
   "execution_count": 5,
   "id": "e3e55a44",
   "metadata": {},
   "outputs": [
    {
     "data": {
      "text/plain": [
       "Iris-setosa        50\n",
       "Iris-versicolor    50\n",
       "Iris-virginica     50\n",
       "Name: Classification, dtype: int64"
      ]
     },
     "execution_count": 5,
     "metadata": {},
     "output_type": "execute_result"
    }
   ],
   "source": [
    "iris_df['Classification'].value_counts()"
   ]
  },
  {
   "cell_type": "markdown",
   "id": "fc4fb1c8",
   "metadata": {},
   "source": [
    "The classification column consists of three unique values. And there is 50 each."
   ]
  },
  {
   "cell_type": "code",
   "execution_count": 6,
   "id": "163aa563",
   "metadata": {},
   "outputs": [
    {
     "data": {
      "text/html": [
       "<div>\n",
       "<style scoped>\n",
       "    .dataframe tbody tr th:only-of-type {\n",
       "        vertical-align: middle;\n",
       "    }\n",
       "\n",
       "    .dataframe tbody tr th {\n",
       "        vertical-align: top;\n",
       "    }\n",
       "\n",
       "    .dataframe thead th {\n",
       "        text-align: right;\n",
       "    }\n",
       "</style>\n",
       "<table border=\"1\" class=\"dataframe\">\n",
       "  <thead>\n",
       "    <tr style=\"text-align: right;\">\n",
       "      <th></th>\n",
       "      <th>SL</th>\n",
       "      <th>SW</th>\n",
       "      <th>PL</th>\n",
       "      <th>PW</th>\n",
       "    </tr>\n",
       "  </thead>\n",
       "  <tbody>\n",
       "    <tr>\n",
       "      <th>count</th>\n",
       "      <td>143.000000</td>\n",
       "      <td>144.000000</td>\n",
       "      <td>144.000000</td>\n",
       "      <td>150.000000</td>\n",
       "    </tr>\n",
       "    <tr>\n",
       "      <th>mean</th>\n",
       "      <td>5.855944</td>\n",
       "      <td>3.049306</td>\n",
       "      <td>3.756250</td>\n",
       "      <td>1.198667</td>\n",
       "    </tr>\n",
       "    <tr>\n",
       "      <th>std</th>\n",
       "      <td>0.828168</td>\n",
       "      <td>0.430644</td>\n",
       "      <td>1.761306</td>\n",
       "      <td>0.763161</td>\n",
       "    </tr>\n",
       "    <tr>\n",
       "      <th>min</th>\n",
       "      <td>4.300000</td>\n",
       "      <td>2.000000</td>\n",
       "      <td>1.000000</td>\n",
       "      <td>0.100000</td>\n",
       "    </tr>\n",
       "    <tr>\n",
       "      <th>25%</th>\n",
       "      <td>5.100000</td>\n",
       "      <td>2.800000</td>\n",
       "      <td>1.600000</td>\n",
       "      <td>0.300000</td>\n",
       "    </tr>\n",
       "    <tr>\n",
       "      <th>50%</th>\n",
       "      <td>5.800000</td>\n",
       "      <td>3.000000</td>\n",
       "      <td>4.350000</td>\n",
       "      <td>1.300000</td>\n",
       "    </tr>\n",
       "    <tr>\n",
       "      <th>75%</th>\n",
       "      <td>6.400000</td>\n",
       "      <td>3.300000</td>\n",
       "      <td>5.100000</td>\n",
       "      <td>1.800000</td>\n",
       "    </tr>\n",
       "    <tr>\n",
       "      <th>max</th>\n",
       "      <td>7.900000</td>\n",
       "      <td>4.400000</td>\n",
       "      <td>6.900000</td>\n",
       "      <td>2.500000</td>\n",
       "    </tr>\n",
       "  </tbody>\n",
       "</table>\n",
       "</div>"
      ],
      "text/plain": [
       "               SL          SW          PL          PW\n",
       "count  143.000000  144.000000  144.000000  150.000000\n",
       "mean     5.855944    3.049306    3.756250    1.198667\n",
       "std      0.828168    0.430644    1.761306    0.763161\n",
       "min      4.300000    2.000000    1.000000    0.100000\n",
       "25%      5.100000    2.800000    1.600000    0.300000\n",
       "50%      5.800000    3.000000    4.350000    1.300000\n",
       "75%      6.400000    3.300000    5.100000    1.800000\n",
       "max      7.900000    4.400000    6.900000    2.500000"
      ]
     },
     "execution_count": 6,
     "metadata": {},
     "output_type": "execute_result"
    }
   ],
   "source": [
    "iris_df.describe()"
   ]
  },
  {
   "cell_type": "markdown",
   "id": "fac79e20",
   "metadata": {},
   "source": [
    "There are 4 numeric columns and they range differently."
   ]
  },
  {
   "cell_type": "markdown",
   "id": "2dfaed3b",
   "metadata": {},
   "source": [
    "## 2. Do necessary pre-processing steps.\n"
   ]
  },
  {
   "cell_type": "markdown",
   "id": "22258a76",
   "metadata": {},
   "source": [
    "### a. Missing Values"
   ]
  },
  {
   "cell_type": "code",
   "execution_count": 8,
   "id": "fd3fdbe0",
   "metadata": {},
   "outputs": [
    {
     "data": {
      "text/plain": [
       "SL                7\n",
       "SW                6\n",
       "PL                6\n",
       "PW                0\n",
       "Classification    0\n",
       "dtype: int64"
      ]
     },
     "execution_count": 8,
     "metadata": {},
     "output_type": "execute_result"
    }
   ],
   "source": [
    "iris_df.isna().sum()"
   ]
  },
  {
   "cell_type": "markdown",
   "id": "9a4ef19c",
   "metadata": {},
   "source": [
    "### There are 19 null values in the dataset divided among SL, SW and PL."
   ]
  },
  {
   "cell_type": "markdown",
   "id": "04ef5e17",
   "metadata": {},
   "source": [
    "### Let us replace the null values with corresponding median of each feature."
   ]
  },
  {
   "cell_type": "code",
   "execution_count": 9,
   "id": "623838a8",
   "metadata": {},
   "outputs": [],
   "source": [
    "iris_df[['SW','SL','PL']]=iris_df[['SW','SL','PL']].fillna(iris_df[['SW','SL','PL']].median())"
   ]
  },
  {
   "cell_type": "code",
   "execution_count": 10,
   "id": "62dcf885",
   "metadata": {},
   "outputs": [
    {
     "data": {
      "text/plain": [
       "SL                0\n",
       "SW                0\n",
       "PL                0\n",
       "PW                0\n",
       "Classification    0\n",
       "dtype: int64"
      ]
     },
     "execution_count": 10,
     "metadata": {},
     "output_type": "execute_result"
    }
   ],
   "source": [
    "iris_df.isna().sum()"
   ]
  },
  {
   "cell_type": "markdown",
   "id": "bcbec8c9",
   "metadata": {},
   "source": [
    "### Filled all missing values"
   ]
  },
  {
   "cell_type": "markdown",
   "id": "6f660455",
   "metadata": {},
   "source": [
    "### b. Outliers "
   ]
  },
  {
   "cell_type": "markdown",
   "id": "74ba5c68",
   "metadata": {},
   "source": [
    "### Boxplots for each continuous numeric features"
   ]
  },
  {
   "cell_type": "code",
   "execution_count": 11,
   "id": "ab4f3245",
   "metadata": {},
   "outputs": [
    {
     "data": {
      "image/png": "[encoded data removed]",
      "text/plain": [
       "<Figure size 432x288 with 1 Axes>"
      ]
     },
     "metadata": {
      "needs_background": "light"
     },
     "output_type": "display_data"
    }
   ],
   "source": [
    "ax = iris_df[['SL','SW','PL','PW']].plot(kind='box', title='boxplot', showmeans=True)\n",
    "plt.show()"
   ]
  },
  {
   "cell_type": "markdown",
   "id": "7b8b7482",
   "metadata": {},
   "source": [
    "### Outliers are found only in the feature SW"
   ]
  },
  {
   "cell_type": "markdown",
   "id": "22a03af3",
   "metadata": {},
   "source": [
    "### Let us locate the outliers using IQR"
   ]
  },
  {
   "cell_type": "code",
   "execution_count": 12,
   "id": "a6544654",
   "metadata": {},
   "outputs": [
    {
     "name": "stdout",
     "output_type": "stream",
     "text": [
      "Total number of outliers in column Fare =  5\n"
     ]
    }
   ],
   "source": [
    "Q1 = np.percentile(iris_df['SW'],25,interpolation='midpoint')\n",
    "Q2 = np.percentile(iris_df['SW'],50,interpolation='midpoint')\n",
    "Q3 = np.percentile(iris_df['SW'],75,interpolation='midpoint')\n",
    "IQR = Q3-Q1\n",
    "low_limit = Q1-1.5*IQR     \n",
    "up_limit = Q3 + 1.5*IQR\n",
    "outlier = []\n",
    "for x in iris_df['SW']:\n",
    "    if (x > up_limit) or (x < low_limit):\n",
    "        outlier.append(x)\n",
    "print('Total number of outliers in column Fare = ',len(outlier)  )"
   ]
  },
  {
   "cell_type": "markdown",
   "id": "2101ff91",
   "metadata": {},
   "source": [
    "### A total of 5 outliers found. Let us replace these outliers with median value of SW."
   ]
  },
  {
   "cell_type": "code",
   "execution_count": 13,
   "id": "1e41b222",
   "metadata": {},
   "outputs": [],
   "source": [
    "iris_df['SW']=iris_df['SW'].mask((iris_df['SW'] > up_limit) | (iris_df['SW'] < low_limit),iris_df['SW'].median())"
   ]
  },
  {
   "cell_type": "markdown",
   "id": "cecf2a75",
   "metadata": {},
   "source": [
    "#### Again check the boxplot"
   ]
  },
  {
   "cell_type": "code",
   "execution_count": 14,
   "id": "0356da26",
   "metadata": {},
   "outputs": [
    {
     "data": {
      "image/png": "[encoded data removed]",
      "text/plain": [
       "<Figure size 432x288 with 1 Axes>"
      ]
     },
     "metadata": {
      "needs_background": "light"
     },
     "output_type": "display_data"
    }
   ],
   "source": [
    "ax = iris_df[['SL','SW','PL','PW']].plot(kind='box', title='boxplot', showmeans=True)\n",
    "plt.show()"
   ]
  },
  {
   "cell_type": "markdown",
   "id": "48bf6e9f",
   "metadata": {},
   "source": [
    "### Now we have removed all outliers."
   ]
  },
  {
   "cell_type": "markdown",
   "id": "9a6dc0d5",
   "metadata": {},
   "source": [
    "### c. Splitting the data into X and y."
   ]
  },
  {
   "cell_type": "code",
   "execution_count": 15,
   "id": "c1d8a921",
   "metadata": {},
   "outputs": [],
   "source": [
    "X = iris_df.drop('Classification',axis=1)"
   ]
  },
  {
   "cell_type": "code",
   "execution_count": 16,
   "id": "1844adf2",
   "metadata": {},
   "outputs": [],
   "source": [
    "y=iris_df['Classification']"
   ]
  },
  {
   "cell_type": "markdown",
   "id": "180a6d24",
   "metadata": {},
   "source": [
    "### d. Train test splittng with test_size = 0.3"
   ]
  },
  {
   "cell_type": "code",
   "execution_count": 17,
   "id": "af9a42d4",
   "metadata": {},
   "outputs": [],
   "source": [
    "from sklearn.model_selection import train_test_split\n",
    "X_train, X_test, y_train, y_test = train_test_split(X, y, test_size=0.3, random_state=42)"
   ]
  },
  {
   "cell_type": "code",
   "execution_count": 18,
   "id": "892cd2e0",
   "metadata": {},
   "outputs": [
    {
     "name": "stdout",
     "output_type": "stream",
     "text": [
      "X_train :  (105, 4)\n",
      "X_test :  (45, 4)\n",
      "y_train :  105\n",
      "y_test :  45\n"
     ]
    }
   ],
   "source": [
    "print('X_train : ',X_train.shape)\n",
    "print('X_test : ',X_test.shape)\n",
    "print('y_train : ',len(y_train))\n",
    "print('y_test : ',len(y_test))"
   ]
  },
  {
   "cell_type": "markdown",
   "id": "4efa0987",
   "metadata": {},
   "source": [
    "### e. Scaling X_train and X_test using SatndardScaler"
   ]
  },
  {
   "cell_type": "code",
   "execution_count": 19,
   "id": "b378a037",
   "metadata": {},
   "outputs": [],
   "source": [
    "from sklearn.preprocessing import StandardScaler\n",
    "scale = StandardScaler()\n",
    "X_train= pd.DataFrame(scale.fit_transform(X_train))\n",
    "X_test = pd.DataFrame(scale.fit_transform(X_test))"
   ]
  },
  {
   "cell_type": "code",
   "execution_count": 20,
   "id": "a6d9f2fa",
   "metadata": {},
   "outputs": [
    {
     "data": {
      "text/html": [
       "<div>\n",
       "<style scoped>\n",
       "    .dataframe tbody tr th:only-of-type {\n",
       "        vertical-align: middle;\n",
       "    }\n",
       "\n",
       "    .dataframe tbody tr th {\n",
       "        vertical-align: top;\n",
       "    }\n",
       "\n",
       "    .dataframe thead th {\n",
       "        text-align: right;\n",
       "    }\n",
       "</style>\n",
       "<table border=\"1\" class=\"dataframe\">\n",
       "  <thead>\n",
       "    <tr style=\"text-align: right;\">\n",
       "      <th></th>\n",
       "      <th>0</th>\n",
       "      <th>1</th>\n",
       "      <th>2</th>\n",
       "      <th>3</th>\n",
       "    </tr>\n",
       "  </thead>\n",
       "  <tbody>\n",
       "    <tr>\n",
       "      <th>count</th>\n",
       "      <td>1.050000e+02</td>\n",
       "      <td>1.050000e+02</td>\n",
       "      <td>105.000000</td>\n",
       "      <td>1.050000e+02</td>\n",
       "    </tr>\n",
       "    <tr>\n",
       "      <th>mean</th>\n",
       "      <td>-1.002373e-15</td>\n",
       "      <td>-2.251836e-17</td>\n",
       "      <td>0.000000</td>\n",
       "      <td>-4.229421e-18</td>\n",
       "    </tr>\n",
       "    <tr>\n",
       "      <th>std</th>\n",
       "      <td>1.004796e+00</td>\n",
       "      <td>1.004796e+00</td>\n",
       "      <td>1.004796</td>\n",
       "      <td>1.004796e+00</td>\n",
       "    </tr>\n",
       "    <tr>\n",
       "      <th>min</th>\n",
       "      <td>-1.945796e+00</td>\n",
       "      <td>-2.207404e+00</td>\n",
       "      <td>-1.654482</td>\n",
       "      <td>-1.536769e+00</td>\n",
       "    </tr>\n",
       "    <tr>\n",
       "      <th>25%</th>\n",
       "      <td>-8.340807e-01</td>\n",
       "      <td>-5.419375e-01</td>\n",
       "      <td>-1.296909</td>\n",
       "      <td>-1.131680e+00</td>\n",
       "    </tr>\n",
       "    <tr>\n",
       "      <th>50%</th>\n",
       "      <td>-9.293706e-02</td>\n",
       "      <td>1.321799e-02</td>\n",
       "      <td>0.282369</td>\n",
       "      <td>8.358997e-02</td>\n",
       "    </tr>\n",
       "    <tr>\n",
       "      <th>75%</th>\n",
       "      <td>6.482066e-01</td>\n",
       "      <td>5.683735e-01</td>\n",
       "      <td>0.729334</td>\n",
       "      <td>7.587397e-01</td>\n",
       "    </tr>\n",
       "    <tr>\n",
       "      <th>max</th>\n",
       "      <td>2.254018e+00</td>\n",
       "      <td>2.511418e+00</td>\n",
       "      <td>1.682860</td>\n",
       "      <td>1.703949e+00</td>\n",
       "    </tr>\n",
       "  </tbody>\n",
       "</table>\n",
       "</div>"
      ],
      "text/plain": [
       "                  0             1           2             3\n",
       "count  1.050000e+02  1.050000e+02  105.000000  1.050000e+02\n",
       "mean  -1.002373e-15 -2.251836e-17    0.000000 -4.229421e-18\n",
       "std    1.004796e+00  1.004796e+00    1.004796  1.004796e+00\n",
       "min   -1.945796e+00 -2.207404e+00   -1.654482 -1.536769e+00\n",
       "25%   -8.340807e-01 -5.419375e-01   -1.296909 -1.131680e+00\n",
       "50%   -9.293706e-02  1.321799e-02    0.282369  8.358997e-02\n",
       "75%    6.482066e-01  5.683735e-01    0.729334  7.587397e-01\n",
       "max    2.254018e+00  2.511418e+00    1.682860  1.703949e+00"
      ]
     },
     "execution_count": 20,
     "metadata": {},
     "output_type": "execute_result"
    }
   ],
   "source": [
    "X_train.describe()"
   ]
  },
  {
   "cell_type": "markdown",
   "id": "d697f976",
   "metadata": {},
   "source": [
    "Here we can see the mean is almost 0 and standard deviation is near 1."
   ]
  },
  {
   "cell_type": "markdown",
   "id": "97736794",
   "metadata": {},
   "source": [
    "##  3.Find out which classification model gives the best result to predict iris species.(also do random forest algorithm)"
   ]
  },
  {
   "cell_type": "markdown",
   "id": "22f6ffb5",
   "metadata": {},
   "source": [
    "### Since it is multi-classification problem we can use either of the following : Logistic(multi_class), kNN, SVM or decision tree "
   ]
  },
  {
   "cell_type": "markdown",
   "id": "b908d154",
   "metadata": {},
   "source": [
    "### a. LogisticRegression(multi-class)"
   ]
  },
  {
   "cell_type": "code",
   "execution_count": 21,
   "id": "d3162e11",
   "metadata": {},
   "outputs": [
    {
     "name": "stdout",
     "output_type": "stream",
     "text": [
      "Accuracy is : 0.9333333333333333\n"
     ]
    },
    {
     "data": {
      "text/plain": [
       "array([[19,  0,  0],\n",
       "       [ 0, 10,  3],\n",
       "       [ 0,  0, 13]], dtype=int64)"
      ]
     },
     "execution_count": 21,
     "metadata": {},
     "output_type": "execute_result"
    }
   ],
   "source": [
    "from sklearn.linear_model import LogisticRegression\n",
    "from sklearn.metrics import accuracy_score\n",
    "from sklearn.metrics import confusion_matrix\n",
    "log_model = LogisticRegression(multi_class='multinomial')\n",
    "log_model.fit(X_train,y_train)\n",
    "y_pred = log_model.predict(X_test)\n",
    "print('Accuracy is :', accuracy_score(y_test,y_pred))\n",
    "confusion_matrix(y_test,y_pred)"
   ]
  },
  {
   "cell_type": "markdown",
   "id": "cc8e236b",
   "metadata": {},
   "source": [
    "### Accuracy is 93% and 3 miss classification found "
   ]
  },
  {
   "cell_type": "markdown",
   "id": "760f601b",
   "metadata": {},
   "source": [
    "### b.kNN"
   ]
  },
  {
   "cell_type": "code",
   "execution_count": 22,
   "id": "de5a6e30",
   "metadata": {},
   "outputs": [],
   "source": [
    "from sklearn.neighbors import KNeighborsClassifier\n",
    "neighbors = np.arange(3,15)\n",
    "acc_vals = []\n",
    "for k in neighbors:\n",
    "    knn = KNeighborsClassifier(n_neighbors=k,metric='euclidean')\n",
    "    knn.fit(X_train,y_train)\n",
    "    y_pred = knn.predict(X_test)\n",
    "    acc = accuracy_score(y_test,y_pred)\n",
    "    acc_vals.append(acc)"
   ]
  },
  {
   "cell_type": "markdown",
   "id": "bd6f77b9",
   "metadata": {},
   "source": [
    "### Now plot a graph between k-value and accuracy to choose the best k-value."
   ]
  },
  {
   "cell_type": "code",
   "execution_count": 23,
   "id": "11eba25a",
   "metadata": {},
   "outputs": [
    {
     "data": {
      "text/plain": [
       "Text(0, 0.5, 'accuracy')"
      ]
     },
     "execution_count": 23,
     "metadata": {},
     "output_type": "execute_result"
    },
    {
     "data": {
      "image/png": "[encoded data removed]",
      "text/plain": [
       "<Figure size 432x288 with 1 Axes>"
      ]
     },
     "metadata": {
      "needs_background": "light"
     },
     "output_type": "display_data"
    }
   ],
   "source": [
    "plt.plot(neighbors,acc_vals,'o-')\n",
    "plt.xlabel('K-value')\n",
    "plt.ylabel('accuracy')"
   ]
  },
  {
   "cell_type": "markdown",
   "id": "64f03156",
   "metadata": {},
   "source": [
    "### Let's choose k=4 as it is one of the k-value with highest accuracy."
   ]
  },
  {
   "cell_type": "code",
   "execution_count": 24,
   "id": "dc2b30d4",
   "metadata": {},
   "outputs": [
    {
     "name": "stdout",
     "output_type": "stream",
     "text": [
      "Accuracy for k=4:  1.0\n"
     ]
    },
    {
     "data": {
      "text/plain": [
       "array([[19,  0,  0],\n",
       "       [ 0, 13,  0],\n",
       "       [ 0,  0, 13]], dtype=int64)"
      ]
     },
     "execution_count": 24,
     "metadata": {},
     "output_type": "execute_result"
    }
   ],
   "source": [
    "knn = KNeighborsClassifier(n_neighbors=4,metric='euclidean')\n",
    "knn.fit(X_train,y_train)\n",
    "y_pred = knn.predict(X_test)\n",
    "print('Accuracy for k=4: ',accuracy_score(y_test,y_pred))\n",
    "confusion_matrix(y_test,y_pred)"
   ]
  },
  {
   "cell_type": "markdown",
   "id": "823fc678",
   "metadata": {},
   "source": [
    "### Accuracy is 100% and no miss classification found "
   ]
  },
  {
   "cell_type": "markdown",
   "id": "22cf2e7f",
   "metadata": {},
   "source": [
    "### b. SVM"
   ]
  },
  {
   "cell_type": "code",
   "execution_count": 25,
   "id": "82d9ebd3",
   "metadata": {},
   "outputs": [
    {
     "name": "stdout",
     "output_type": "stream",
     "text": [
      "Accuracy is : 0.9555555555555556\n"
     ]
    },
    {
     "data": {
      "text/plain": [
       "array([[19,  0,  0],\n",
       "       [ 0, 11,  2],\n",
       "       [ 0,  0, 13]], dtype=int64)"
      ]
     },
     "execution_count": 25,
     "metadata": {},
     "output_type": "execute_result"
    }
   ],
   "source": [
    "from sklearn.svm import SVC\n",
    "svm_linear = SVC(kernel='rbf')\n",
    "svm_linear.fit(X_train,y_train)\n",
    "y_pred = svm_linear.predict(X_test)\n",
    "print('Accuracy is :', accuracy_score(y_test,y_pred))\n",
    "confusion_matrix(y_test,y_pred)"
   ]
  },
  {
   "cell_type": "markdown",
   "id": "d8c206e9",
   "metadata": {},
   "source": [
    "### Here we get 95 % accuracy and 2 missclassifications."
   ]
  },
  {
   "cell_type": "markdown",
   "id": "56d58f89",
   "metadata": {},
   "source": [
    "### c.Decision Tree"
   ]
  },
  {
   "cell_type": "code",
   "execution_count": 26,
   "id": "663e50a4",
   "metadata": {},
   "outputs": [
    {
     "name": "stdout",
     "output_type": "stream",
     "text": [
      "Accuracy is : 0.8444444444444444\n"
     ]
    },
    {
     "data": {
      "text/plain": [
       "array([[19,  0,  0],\n",
       "       [ 0,  6,  7],\n",
       "       [ 0,  0, 13]], dtype=int64)"
      ]
     },
     "execution_count": 26,
     "metadata": {},
     "output_type": "execute_result"
    }
   ],
   "source": [
    "from sklearn.tree import DecisionTreeClassifier\n",
    "df_model = DecisionTreeClassifier()\n",
    "df_model.fit(X_train,y_train)\n",
    "y_pred = df_model.predict(X_test)\n",
    "print('Accuracy is :', accuracy_score(y_test,y_pred))\n",
    "confusion_matrix(y_test,y_pred)"
   ]
  },
  {
   "cell_type": "markdown",
   "id": "5ca06051",
   "metadata": {},
   "source": [
    "### Here we get 84% accuracy and 7 missclassification."
   ]
  },
  {
   "cell_type": "markdown",
   "id": "5520a962",
   "metadata": {},
   "source": [
    "## Hence by comparing all the four classifiers we can conclude that K Nearest Neighbors gives the best result for this data set corresponding to the scaling, test_size and other parameters that I provided on preprocessing step."
   ]
  },
  {
   "cell_type": "markdown",
   "id": "d8f3cc87",
   "metadata": {},
   "source": [
    "But this might change with the scaling techniques used and test_size chosen."
   ]
  },
  {
   "cell_type": "markdown",
   "id": "12db3b98",
   "metadata": {},
   "source": [
    "## Applying RandomForestAlgorithm"
   ]
  },
  {
   "cell_type": "code",
   "execution_count": 27,
   "id": "f2742775",
   "metadata": {},
   "outputs": [
    {
     "name": "stdout",
     "output_type": "stream",
     "text": [
      "f1_score:  0.9777448559670783\n"
     ]
    },
    {
     "data": {
      "text/plain": [
       "array([[19,  0,  0],\n",
       "       [ 0, 12,  1],\n",
       "       [ 0,  0, 13]], dtype=int64)"
      ]
     },
     "execution_count": 27,
     "metadata": {},
     "output_type": "execute_result"
    }
   ],
   "source": [
    "from sklearn.ensemble import RandomForestClassifier\n",
    "rf = RandomForestClassifier()\n",
    "rf.fit(X_train,y_train)\n",
    "y_pred = rf.predict(X_test)\n",
    "from sklearn.metrics import f1_score\n",
    "print('f1_score: ',f1_score(y_test,y_pred,average='weighted'))\n",
    "confusion_matrix(y_test,y_pred)"
   ]
  },
  {
   "cell_type": "markdown",
   "id": "ebfadc1b",
   "metadata": {},
   "source": [
    "### After applying RandomForestClassifier we get an f1_score of 0.97 and 1 missclassifications.\n",
    "### Let us also check the feature importance."
   ]
  },
  {
   "cell_type": "code",
   "execution_count": 28,
   "id": "c530b828",
   "metadata": {},
   "outputs": [
    {
     "data": {
      "text/plain": [
       "PW    48.128891\n",
       "PL    37.326337\n",
       "SL    10.730043\n",
       "SW     3.814729\n",
       "dtype: float64"
      ]
     },
     "execution_count": 28,
     "metadata": {},
     "output_type": "execute_result"
    }
   ],
   "source": [
    "pd.Series(rf.feature_importances_,index =X.columns).sort_values(ascending=False)*100"
   ]
  },
  {
   "cell_type": "markdown",
   "id": "8314a5e4",
   "metadata": {},
   "source": [
    "## End"
   ]
  }
 ],
 "metadata": {
  "kernelspec": {
   "display_name": "Python 3 (ipykernel)",
   "language": "python",
   "name": "python3"
  },
  "language_info": {
   "codemirror_mode": {
    "name": "ipython",
    "version": 3
   },
   "file_extension": ".py",
   "mimetype": "text/x-python",
   "name": "python",
   "nbconvert_exporter": "python",
   "pygments_lexer": "ipython3",
   "version": "3.8.12"
  }
 },
 "nbformat": 4,
 "nbformat_minor": 5
}
